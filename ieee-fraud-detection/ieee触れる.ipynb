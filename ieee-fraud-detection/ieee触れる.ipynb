{
  "nbformat": 4,
  "nbformat_minor": 0,
  "metadata": {
    "kernelspec": {
      "language": "python",
      "display_name": "Python 3",
      "name": "python3"
    },
    "language_info": {
      "pygments_lexer": "ipython3",
      "nbconvert_exporter": "python",
      "version": "3.6.4",
      "file_extension": ".py",
      "codemirror_mode": {
        "name": "ipython",
        "version": 3
      },
      "name": "python",
      "mimetype": "text/x-python"
    },
    "colab": {
      "name": "LightGBM.ipynb",
      "provenance": []
    }
  },
  "cells": [
    {
      "cell_type": "code",
      "metadata": {
        "_uuid": "8f2839f25d086af736a60e9eeb907d3b93b6e0e5",
        "_cell_guid": "b1076dfc-b9ad-4769-8c92-a6c4dae69d19",
        "trusted": true,
        "id": "o7KtvwyRWB09",
        "colab_type": "code",
        "colab": {},
        "outputId": "a864a835-659e-4b1e-a6ef-bdf98909108a"
      },
      "source": [
        "import os\n",
        "for dirname, _, filenames in os.walk('/kaggle/input'):\n",
        "    for filename in filenames:\n",
        "        print(os.path.join(dirname, filename))\n",
        "\n",
        "# Any results you write to the current directory are saved as output."
      ],
      "execution_count": 0,
      "outputs": [
        {
          "output_type": "stream",
          "text": [
            "/kaggle/input/test_identity.csv\n",
            "/kaggle/input/sample_submission.csv\n",
            "/kaggle/input/train_identity.csv\n",
            "/kaggle/input/train_transaction.csv\n",
            "/kaggle/input/test_transaction.csv\n"
          ],
          "name": "stdout"
        }
      ]
    },
    {
      "cell_type": "code",
      "metadata": {
        "trusted": true,
        "id": "0Qt2BpcsWB1G",
        "colab_type": "code",
        "colab": {}
      },
      "source": [
        "import numpy as np\n",
        "import pandas as pd\n",
        "import matplotlib.pyplot as plt\n",
        "from sklearn.model_selection import train_test_split\n",
        "from sklearn.metrics import accuracy_score\n",
        "import gc\n",
        "import lightgbm as lgb\n",
        "\n",
        "import multiprocessing\n",
        "import warnings\n",
        "import seaborn as sns\n",
        "\n",
        "warnings.simplefilter('ignore')\n",
        "sns.set()\n",
        "%matplotlib inline"
      ],
      "execution_count": 0,
      "outputs": []
    },
    {
      "cell_type": "code",
      "metadata": {
        "trusted": true,
        "id": "FAxpit_1WB1J",
        "colab_type": "code",
        "colab": {}
      },
      "source": [
        "#filesに取り出すファイル名を格納\n",
        "files = ['../input/test_identity.csv', \n",
        "         '../input/test_transaction.csv',\n",
        "         '../input/train_identity.csv',\n",
        "         '../input/train_transaction.csv',\n",
        "         '../input/sample_submission.csv']"
      ],
      "execution_count": 0,
      "outputs": []
    },
    {
      "cell_type": "code",
      "metadata": {
        "trusted": true,
        "id": "inbXMU6oWB1N",
        "colab_type": "code",
        "colab": {}
      },
      "source": [
        "# 帰り値でread_csvする関数を作りまわす\n",
        "def load_data(file):\n",
        "    return pd.read_csv(file)\n",
        "\n",
        "#並列処理でcsvを読み込む https://qiita.com/taka-kawa/items/d1fc1bc0acb3a6ca3031\n",
        "#wifth構文でcloseを省略 https://reiki4040.hatenablog.com/entry/20130331/1364723288\n",
        "with multiprocessing.Pool() as pool:\n",
        "    test_id, test_tr, train_id, train_tr, sub = pool.map(load_data, files)"
      ],
      "execution_count": 0,
      "outputs": []
    },
    {
      "cell_type": "code",
      "metadata": {
        "trusted": true,
        "id": "q-VxyZRkWB1R",
        "colab_type": "code",
        "colab": {}
      },
      "source": [
        "#mergeとdelでメモリ節約\n",
        "train = pd.merge(train_tr, train_id, on='TransactionID', how='left')\n",
        "test = pd.merge(test_tr, test_id, on='TransactionID', how='left')\n",
        "\n",
        "del test_id, test_tr, train_id, train_tr\n",
        "gc.collect();"
      ],
      "execution_count": 0,
      "outputs": []
    },
    {
      "cell_type": "code",
      "metadata": {
        "trusted": true,
        "id": "YuXQmZYpWB1U",
        "colab_type": "code",
        "colab": {},
        "outputId": "d72e7604-e265-4c0f-aadd-ce6040ae9bab"
      },
      "source": [
        "col_tr=train.columns\n",
        "col_te=test.columns\n",
        "print(\n",
        "    train.shape,test.shape\n",
        ")#isFraudの文trainの方が1カラム多い"
      ],
      "execution_count": 0,
      "outputs": [
        {
          "output_type": "stream",
          "text": [
            "(590540, 434) (506691, 433)\n"
          ],
          "name": "stdout"
        }
      ]
    },
    {
      "cell_type": "code",
      "metadata": {
        "trusted": true,
        "id": "3VKoKudSWB1X",
        "colab_type": "code",
        "colab": {}
      },
      "source": [
        "#訓練データの正解ラベル→X_testに入れる\n",
        "X_test=train[\"isFraud\"]\n",
        "\n",
        "#訓練データの学習用データはisFraud以外→Xに入れる\n",
        "X_train=train.drop(\"isFraud\",axis=1)"
      ],
      "execution_count": 0,
      "outputs": []
    },
    {
      "cell_type": "code",
      "metadata": {
        "trusted": true,
        "id": "tuqF9V1tWB1a",
        "colab_type": "code",
        "colab": {},
        "outputId": "fd2540b3-2efe-4eaf-a2d3-590c5268dbc8"
      },
      "source": [
        "X_test.value_counts()\n",
        "print(\"不正利用率\",100*X_test.value_counts()[1]/(sum(X_test.value_counts())))"
      ],
      "execution_count": 0,
      "outputs": [
        {
          "output_type": "stream",
          "text": [
            "不正利用 3.499000914417313\n"
          ],
          "name": "stdout"
        }
      ]
    },
    {
      "cell_type": "code",
      "metadata": {
        "trusted": true,
        "id": "86HCEM0IWB1e",
        "colab_type": "code",
        "colab": {},
        "outputId": "be5d0595-49cc-46a8-ab3b-fd9bab7c52ed"
      },
      "source": [
        "del train\n",
        "gc.collect()"
      ],
      "execution_count": 0,
      "outputs": [
        {
          "output_type": "execute_result",
          "data": {
            "text/plain": [
              "7"
            ]
          },
          "metadata": {
            "tags": []
          },
          "execution_count": 9
        }
      ]
    },
    {
      "cell_type": "code",
      "metadata": {
        "trusted": true,
        "id": "Mx3whFtKWB1k",
        "colab_type": "code",
        "colab": {},
        "outputId": "d5ac0629-a49f-44c0-d113-a278c9b44d77"
      },
      "source": [
        "X_test.dtypes#正解ラベル\n",
        "X_train.dtypes#objectを排除するかダミー変数にする"
      ],
      "execution_count": 0,
      "outputs": [
        {
          "output_type": "execute_result",
          "data": {
            "text/plain": [
              "TransactionID       int64\n",
              "TransactionDT       int64\n",
              "TransactionAmt    float64\n",
              "ProductCD          object\n",
              "card1               int64\n",
              "                   ...   \n",
              "id_36              object\n",
              "id_37              object\n",
              "id_38              object\n",
              "DeviceType         object\n",
              "DeviceInfo         object\n",
              "Length: 433, dtype: object"
            ]
          },
          "metadata": {
            "tags": []
          },
          "execution_count": 10
        }
      ]
    },
    {
      "cell_type": "code",
      "metadata": {
        "trusted": true,
        "id": "zayjGoafWB1m",
        "colab_type": "code",
        "colab": {}
      },
      "source": [
        "# X_train.columns.values"
      ],
      "execution_count": 0,
      "outputs": []
    },
    {
      "cell_type": "code",
      "metadata": {
        "trusted": true,
        "id": "OlYdOpDZWB1p",
        "colab_type": "code",
        "colab": {}
      },
      "source": [
        "cold=X_train.columns\n",
        "\"V\" in cold[1] \n",
        "vin = [i for i in X_train.columns if \"V\" in i]\n",
        "idin = [i for i in X_train.columns if \"id\" in i]"
      ],
      "execution_count": 0,
      "outputs": []
    },
    {
      "cell_type": "code",
      "metadata": {
        "trusted": true,
        "id": "e3mfqIpUWB1r",
        "colab_type": "code",
        "colab": {}
      },
      "source": [
        "#X_trainとX_testをランダムフォレスト用にコピー\n",
        "XX_test=X_test.copy()\n",
        "XX_train=X_train.copy()\n"
      ],
      "execution_count": 0,
      "outputs": []
    },
    {
      "cell_type": "code",
      "metadata": {
        "trusted": true,
        "id": "xGM_a8j0WB1t",
        "colab_type": "code",
        "colab": {},
        "outputId": "fe822d18-aa29-47cf-fb2b-4012f4bb9f94"
      },
      "source": [
        "XX_train.head()"
      ],
      "execution_count": 0,
      "outputs": [
        {
          "output_type": "execute_result",
          "data": {
            "text/plain": [
              "   TransactionID  TransactionDT  TransactionAmt ProductCD  card1  card2  \\\n",
              "0        2987000          86400            68.5         W  13926    NaN   \n",
              "1        2987001          86401            29.0         W   2755  404.0   \n",
              "2        2987002          86469            59.0         W   4663  490.0   \n",
              "3        2987003          86499            50.0         W  18132  567.0   \n",
              "4        2987004          86506            50.0         H   4497  514.0   \n",
              "\n",
              "   card3       card4  card5   card6  ...                id_31  id_32  \\\n",
              "0  150.0    discover  142.0  credit  ...                  NaN    NaN   \n",
              "1  150.0  mastercard  102.0  credit  ...                  NaN    NaN   \n",
              "2  150.0        visa  166.0   debit  ...                  NaN    NaN   \n",
              "3  150.0  mastercard  117.0   debit  ...                  NaN    NaN   \n",
              "4  150.0  mastercard  102.0  credit  ...  samsung browser 6.2   32.0   \n",
              "\n",
              "       id_33           id_34 id_35 id_36  id_37  id_38  DeviceType  \\\n",
              "0        NaN             NaN   NaN   NaN    NaN    NaN         NaN   \n",
              "1        NaN             NaN   NaN   NaN    NaN    NaN         NaN   \n",
              "2        NaN             NaN   NaN   NaN    NaN    NaN         NaN   \n",
              "3        NaN             NaN   NaN   NaN    NaN    NaN         NaN   \n",
              "4  2220x1080  match_status:2     T     F      T      T      mobile   \n",
              "\n",
              "                      DeviceInfo  \n",
              "0                            NaN  \n",
              "1                            NaN  \n",
              "2                            NaN  \n",
              "3                            NaN  \n",
              "4  SAMSUNG SM-G892A Build/NRD90M  \n",
              "\n",
              "[5 rows x 433 columns]"
            ],
            "text/html": [
              "<div>\n",
              "<style scoped>\n",
              "    .dataframe tbody tr th:only-of-type {\n",
              "        vertical-align: middle;\n",
              "    }\n",
              "\n",
              "    .dataframe tbody tr th {\n",
              "        vertical-align: top;\n",
              "    }\n",
              "\n",
              "    .dataframe thead th {\n",
              "        text-align: right;\n",
              "    }\n",
              "</style>\n",
              "<table border=\"1\" class=\"dataframe\">\n",
              "  <thead>\n",
              "    <tr style=\"text-align: right;\">\n",
              "      <th></th>\n",
              "      <th>TransactionID</th>\n",
              "      <th>TransactionDT</th>\n",
              "      <th>TransactionAmt</th>\n",
              "      <th>ProductCD</th>\n",
              "      <th>card1</th>\n",
              "      <th>card2</th>\n",
              "      <th>card3</th>\n",
              "      <th>card4</th>\n",
              "      <th>card5</th>\n",
              "      <th>card6</th>\n",
              "      <th>...</th>\n",
              "      <th>id_31</th>\n",
              "      <th>id_32</th>\n",
              "      <th>id_33</th>\n",
              "      <th>id_34</th>\n",
              "      <th>id_35</th>\n",
              "      <th>id_36</th>\n",
              "      <th>id_37</th>\n",
              "      <th>id_38</th>\n",
              "      <th>DeviceType</th>\n",
              "      <th>DeviceInfo</th>\n",
              "    </tr>\n",
              "  </thead>\n",
              "  <tbody>\n",
              "    <tr>\n",
              "      <th>0</th>\n",
              "      <td>2987000</td>\n",
              "      <td>86400</td>\n",
              "      <td>68.5</td>\n",
              "      <td>W</td>\n",
              "      <td>13926</td>\n",
              "      <td>NaN</td>\n",
              "      <td>150.0</td>\n",
              "      <td>discover</td>\n",
              "      <td>142.0</td>\n",
              "      <td>credit</td>\n",
              "      <td>...</td>\n",
              "      <td>NaN</td>\n",
              "      <td>NaN</td>\n",
              "      <td>NaN</td>\n",
              "      <td>NaN</td>\n",
              "      <td>NaN</td>\n",
              "      <td>NaN</td>\n",
              "      <td>NaN</td>\n",
              "      <td>NaN</td>\n",
              "      <td>NaN</td>\n",
              "      <td>NaN</td>\n",
              "    </tr>\n",
              "    <tr>\n",
              "      <th>1</th>\n",
              "      <td>2987001</td>\n",
              "      <td>86401</td>\n",
              "      <td>29.0</td>\n",
              "      <td>W</td>\n",
              "      <td>2755</td>\n",
              "      <td>404.0</td>\n",
              "      <td>150.0</td>\n",
              "      <td>mastercard</td>\n",
              "      <td>102.0</td>\n",
              "      <td>credit</td>\n",
              "      <td>...</td>\n",
              "      <td>NaN</td>\n",
              "      <td>NaN</td>\n",
              "      <td>NaN</td>\n",
              "      <td>NaN</td>\n",
              "      <td>NaN</td>\n",
              "      <td>NaN</td>\n",
              "      <td>NaN</td>\n",
              "      <td>NaN</td>\n",
              "      <td>NaN</td>\n",
              "      <td>NaN</td>\n",
              "    </tr>\n",
              "    <tr>\n",
              "      <th>2</th>\n",
              "      <td>2987002</td>\n",
              "      <td>86469</td>\n",
              "      <td>59.0</td>\n",
              "      <td>W</td>\n",
              "      <td>4663</td>\n",
              "      <td>490.0</td>\n",
              "      <td>150.0</td>\n",
              "      <td>visa</td>\n",
              "      <td>166.0</td>\n",
              "      <td>debit</td>\n",
              "      <td>...</td>\n",
              "      <td>NaN</td>\n",
              "      <td>NaN</td>\n",
              "      <td>NaN</td>\n",
              "      <td>NaN</td>\n",
              "      <td>NaN</td>\n",
              "      <td>NaN</td>\n",
              "      <td>NaN</td>\n",
              "      <td>NaN</td>\n",
              "      <td>NaN</td>\n",
              "      <td>NaN</td>\n",
              "    </tr>\n",
              "    <tr>\n",
              "      <th>3</th>\n",
              "      <td>2987003</td>\n",
              "      <td>86499</td>\n",
              "      <td>50.0</td>\n",
              "      <td>W</td>\n",
              "      <td>18132</td>\n",
              "      <td>567.0</td>\n",
              "      <td>150.0</td>\n",
              "      <td>mastercard</td>\n",
              "      <td>117.0</td>\n",
              "      <td>debit</td>\n",
              "      <td>...</td>\n",
              "      <td>NaN</td>\n",
              "      <td>NaN</td>\n",
              "      <td>NaN</td>\n",
              "      <td>NaN</td>\n",
              "      <td>NaN</td>\n",
              "      <td>NaN</td>\n",
              "      <td>NaN</td>\n",
              "      <td>NaN</td>\n",
              "      <td>NaN</td>\n",
              "      <td>NaN</td>\n",
              "    </tr>\n",
              "    <tr>\n",
              "      <th>4</th>\n",
              "      <td>2987004</td>\n",
              "      <td>86506</td>\n",
              "      <td>50.0</td>\n",
              "      <td>H</td>\n",
              "      <td>4497</td>\n",
              "      <td>514.0</td>\n",
              "      <td>150.0</td>\n",
              "      <td>mastercard</td>\n",
              "      <td>102.0</td>\n",
              "      <td>credit</td>\n",
              "      <td>...</td>\n",
              "      <td>samsung browser 6.2</td>\n",
              "      <td>32.0</td>\n",
              "      <td>2220x1080</td>\n",
              "      <td>match_status:2</td>\n",
              "      <td>T</td>\n",
              "      <td>F</td>\n",
              "      <td>T</td>\n",
              "      <td>T</td>\n",
              "      <td>mobile</td>\n",
              "      <td>SAMSUNG SM-G892A Build/NRD90M</td>\n",
              "    </tr>\n",
              "  </tbody>\n",
              "</table>\n",
              "<p>5 rows × 433 columns</p>\n",
              "</div>"
            ]
          },
          "metadata": {
            "tags": []
          },
          "execution_count": 14
        }
      ]
    },
    {
      "cell_type": "code",
      "metadata": {
        "trusted": true,
        "id": "OLsiu73DWB1w",
        "colab_type": "code",
        "colab": {}
      },
      "source": [
        "\n",
        "#V列は落としてみる\n",
        "XX_train=XX_train.drop(vin,axis=1)\n",
        "XX_train=XX_train.drop([\"DeviceInfo\",\"DeviceType\"],axis=1)\n",
        "XX_train=XX_train.drop(idin,axis=1)\n",
        "# \n",
        "# #objectをダミー化\n",
        "XX_train=pd.get_dummies(XX_train)\n",
        "\n"
      ],
      "execution_count": 0,
      "outputs": []
    },
    {
      "cell_type": "code",
      "metadata": {
        "trusted": true,
        "id": "i9xYkgTNWB1z",
        "colab_type": "code",
        "colab": {},
        "outputId": "81d8ab19-0bae-4294-ec1e-07fafe5eb97e"
      },
      "source": [
        "del vin,idin\n",
        "gc.collect()"
      ],
      "execution_count": 0,
      "outputs": [
        {
          "output_type": "execute_result",
          "data": {
            "text/plain": [
              "35"
            ]
          },
          "metadata": {
            "tags": []
          },
          "execution_count": 16
        }
      ]
    },
    {
      "cell_type": "code",
      "metadata": {
        "trusted": true,
        "id": "YlHr93ThWB12",
        "colab_type": "code",
        "colab": {},
        "outputId": "ea7d1e6a-3bed-49b9-bcb7-6ef59b1e7859"
      },
      "source": [
        "print(XX_train.shape)\n",
        "XX_train.head()"
      ],
      "execution_count": 0,
      "outputs": [
        {
          "output_type": "stream",
          "text": [
            "(590540, 191)\n"
          ],
          "name": "stdout"
        },
        {
          "output_type": "execute_result",
          "data": {
            "text/plain": [
              "   TransactionID  TransactionDT  TransactionAmt  card1  card2  card3  card5  \\\n",
              "0        2987000          86400            68.5  13926    NaN  150.0  142.0   \n",
              "1        2987001          86401            29.0   2755  404.0  150.0  102.0   \n",
              "2        2987002          86469            59.0   4663  490.0  150.0  166.0   \n",
              "3        2987003          86499            50.0  18132  567.0  150.0  117.0   \n",
              "4        2987004          86506            50.0   4497  514.0  150.0  102.0   \n",
              "\n",
              "   addr1  addr2  dist1  ...  M5_F  M5_T  M6_F  M6_T  M7_F  M7_T  M8_F  M8_T  \\\n",
              "0  315.0   87.0   19.0  ...     1     0     0     1     0     0     0     0   \n",
              "1  325.0   87.0    NaN  ...     0     1     0     1     0     0     0     0   \n",
              "2  330.0   87.0  287.0  ...     1     0     1     0     1     0     1     0   \n",
              "3  476.0   87.0    NaN  ...     0     1     1     0     0     0     0     0   \n",
              "4  420.0   87.0    NaN  ...     0     0     0     0     0     0     0     0   \n",
              "\n",
              "   M9_F  M9_T  \n",
              "0     0     0  \n",
              "1     0     0  \n",
              "2     1     0  \n",
              "3     0     0  \n",
              "4     0     0  \n",
              "\n",
              "[5 rows x 191 columns]"
            ],
            "text/html": [
              "<div>\n",
              "<style scoped>\n",
              "    .dataframe tbody tr th:only-of-type {\n",
              "        vertical-align: middle;\n",
              "    }\n",
              "\n",
              "    .dataframe tbody tr th {\n",
              "        vertical-align: top;\n",
              "    }\n",
              "\n",
              "    .dataframe thead th {\n",
              "        text-align: right;\n",
              "    }\n",
              "</style>\n",
              "<table border=\"1\" class=\"dataframe\">\n",
              "  <thead>\n",
              "    <tr style=\"text-align: right;\">\n",
              "      <th></th>\n",
              "      <th>TransactionID</th>\n",
              "      <th>TransactionDT</th>\n",
              "      <th>TransactionAmt</th>\n",
              "      <th>card1</th>\n",
              "      <th>card2</th>\n",
              "      <th>card3</th>\n",
              "      <th>card5</th>\n",
              "      <th>addr1</th>\n",
              "      <th>addr2</th>\n",
              "      <th>dist1</th>\n",
              "      <th>...</th>\n",
              "      <th>M5_F</th>\n",
              "      <th>M5_T</th>\n",
              "      <th>M6_F</th>\n",
              "      <th>M6_T</th>\n",
              "      <th>M7_F</th>\n",
              "      <th>M7_T</th>\n",
              "      <th>M8_F</th>\n",
              "      <th>M8_T</th>\n",
              "      <th>M9_F</th>\n",
              "      <th>M9_T</th>\n",
              "    </tr>\n",
              "  </thead>\n",
              "  <tbody>\n",
              "    <tr>\n",
              "      <th>0</th>\n",
              "      <td>2987000</td>\n",
              "      <td>86400</td>\n",
              "      <td>68.5</td>\n",
              "      <td>13926</td>\n",
              "      <td>NaN</td>\n",
              "      <td>150.0</td>\n",
              "      <td>142.0</td>\n",
              "      <td>315.0</td>\n",
              "      <td>87.0</td>\n",
              "      <td>19.0</td>\n",
              "      <td>...</td>\n",
              "      <td>1</td>\n",
              "      <td>0</td>\n",
              "      <td>0</td>\n",
              "      <td>1</td>\n",
              "      <td>0</td>\n",
              "      <td>0</td>\n",
              "      <td>0</td>\n",
              "      <td>0</td>\n",
              "      <td>0</td>\n",
              "      <td>0</td>\n",
              "    </tr>\n",
              "    <tr>\n",
              "      <th>1</th>\n",
              "      <td>2987001</td>\n",
              "      <td>86401</td>\n",
              "      <td>29.0</td>\n",
              "      <td>2755</td>\n",
              "      <td>404.0</td>\n",
              "      <td>150.0</td>\n",
              "      <td>102.0</td>\n",
              "      <td>325.0</td>\n",
              "      <td>87.0</td>\n",
              "      <td>NaN</td>\n",
              "      <td>...</td>\n",
              "      <td>0</td>\n",
              "      <td>1</td>\n",
              "      <td>0</td>\n",
              "      <td>1</td>\n",
              "      <td>0</td>\n",
              "      <td>0</td>\n",
              "      <td>0</td>\n",
              "      <td>0</td>\n",
              "      <td>0</td>\n",
              "      <td>0</td>\n",
              "    </tr>\n",
              "    <tr>\n",
              "      <th>2</th>\n",
              "      <td>2987002</td>\n",
              "      <td>86469</td>\n",
              "      <td>59.0</td>\n",
              "      <td>4663</td>\n",
              "      <td>490.0</td>\n",
              "      <td>150.0</td>\n",
              "      <td>166.0</td>\n",
              "      <td>330.0</td>\n",
              "      <td>87.0</td>\n",
              "      <td>287.0</td>\n",
              "      <td>...</td>\n",
              "      <td>1</td>\n",
              "      <td>0</td>\n",
              "      <td>1</td>\n",
              "      <td>0</td>\n",
              "      <td>1</td>\n",
              "      <td>0</td>\n",
              "      <td>1</td>\n",
              "      <td>0</td>\n",
              "      <td>1</td>\n",
              "      <td>0</td>\n",
              "    </tr>\n",
              "    <tr>\n",
              "      <th>3</th>\n",
              "      <td>2987003</td>\n",
              "      <td>86499</td>\n",
              "      <td>50.0</td>\n",
              "      <td>18132</td>\n",
              "      <td>567.0</td>\n",
              "      <td>150.0</td>\n",
              "      <td>117.0</td>\n",
              "      <td>476.0</td>\n",
              "      <td>87.0</td>\n",
              "      <td>NaN</td>\n",
              "      <td>...</td>\n",
              "      <td>0</td>\n",
              "      <td>1</td>\n",
              "      <td>1</td>\n",
              "      <td>0</td>\n",
              "      <td>0</td>\n",
              "      <td>0</td>\n",
              "      <td>0</td>\n",
              "      <td>0</td>\n",
              "      <td>0</td>\n",
              "      <td>0</td>\n",
              "    </tr>\n",
              "    <tr>\n",
              "      <th>4</th>\n",
              "      <td>2987004</td>\n",
              "      <td>86506</td>\n",
              "      <td>50.0</td>\n",
              "      <td>4497</td>\n",
              "      <td>514.0</td>\n",
              "      <td>150.0</td>\n",
              "      <td>102.0</td>\n",
              "      <td>420.0</td>\n",
              "      <td>87.0</td>\n",
              "      <td>NaN</td>\n",
              "      <td>...</td>\n",
              "      <td>0</td>\n",
              "      <td>0</td>\n",
              "      <td>0</td>\n",
              "      <td>0</td>\n",
              "      <td>0</td>\n",
              "      <td>0</td>\n",
              "      <td>0</td>\n",
              "      <td>0</td>\n",
              "      <td>0</td>\n",
              "      <td>0</td>\n",
              "    </tr>\n",
              "  </tbody>\n",
              "</table>\n",
              "<p>5 rows × 191 columns</p>\n",
              "</div>"
            ]
          },
          "metadata": {
            "tags": []
          },
          "execution_count": 17
        }
      ]
    },
    {
      "cell_type": "code",
      "metadata": {
        "trusted": true,
        "id": "1PDOKITEWB14",
        "colab_type": "code",
        "colab": {}
      },
      "source": [
        "feature_name=list(XX_train.columns.values)"
      ],
      "execution_count": 0,
      "outputs": []
    },
    {
      "cell_type": "code",
      "metadata": {
        "trusted": true,
        "id": "TYzecvwTWB17",
        "colab_type": "code",
        "colab": {}
      },
      "source": [
        "col_na=pd.DataFrame(XX_train.isnull().sum())\n",
        "nacolum=col_na[col_na[0]>0].index"
      ],
      "execution_count": 0,
      "outputs": []
    },
    {
      "cell_type": "code",
      "metadata": {
        "trusted": true,
        "id": "k_4TlWi5WB1-",
        "colab_type": "code",
        "colab": {}
      },
      "source": [
        "from sklearn.impute import SimpleImputer\n",
        "imr=SimpleImputer(strategy=\"mean\")\n",
        "XX_train=pd.DataFrame(imr.fit_transform(XX_train))#平均値補間"
      ],
      "execution_count": 0,
      "outputs": []
    },
    {
      "cell_type": "code",
      "metadata": {
        "trusted": true,
        "id": "YggMRGMWWB2C",
        "colab_type": "code",
        "colab": {},
        "outputId": "86f249d8-9803-4cc8-eeef-07baef397ca3"
      },
      "source": [
        "XX_train.head()"
      ],
      "execution_count": 0,
      "outputs": [
        {
          "output_type": "execute_result",
          "data": {
            "text/plain": [
              "         0        1     2        3           4      5      6      7     8    \\\n",
              "0  2987000.0  86400.0  68.5  13926.0  362.555488  150.0  142.0  315.0  87.0   \n",
              "1  2987001.0  86401.0  29.0   2755.0  404.000000  150.0  102.0  325.0  87.0   \n",
              "2  2987002.0  86469.0  59.0   4663.0  490.000000  150.0  166.0  330.0  87.0   \n",
              "3  2987003.0  86499.0  50.0  18132.0  567.000000  150.0  117.0  476.0  87.0   \n",
              "4  2987004.0  86506.0  50.0   4497.0  514.000000  150.0  102.0  420.0  87.0   \n",
              "\n",
              "         9    ...  181  182  183  184  185  186  187  188  189  190  \n",
              "0   19.00000  ...  1.0  0.0  0.0  1.0  0.0  0.0  0.0  0.0  0.0  0.0  \n",
              "1  118.50218  ...  0.0  1.0  0.0  1.0  0.0  0.0  0.0  0.0  0.0  0.0  \n",
              "2  287.00000  ...  1.0  0.0  1.0  0.0  1.0  0.0  1.0  0.0  1.0  0.0  \n",
              "3  118.50218  ...  0.0  1.0  1.0  0.0  0.0  0.0  0.0  0.0  0.0  0.0  \n",
              "4  118.50218  ...  0.0  0.0  0.0  0.0  0.0  0.0  0.0  0.0  0.0  0.0  \n",
              "\n",
              "[5 rows x 191 columns]"
            ],
            "text/html": [
              "<div>\n",
              "<style scoped>\n",
              "    .dataframe tbody tr th:only-of-type {\n",
              "        vertical-align: middle;\n",
              "    }\n",
              "\n",
              "    .dataframe tbody tr th {\n",
              "        vertical-align: top;\n",
              "    }\n",
              "\n",
              "    .dataframe thead th {\n",
              "        text-align: right;\n",
              "    }\n",
              "</style>\n",
              "<table border=\"1\" class=\"dataframe\">\n",
              "  <thead>\n",
              "    <tr style=\"text-align: right;\">\n",
              "      <th></th>\n",
              "      <th>0</th>\n",
              "      <th>1</th>\n",
              "      <th>2</th>\n",
              "      <th>3</th>\n",
              "      <th>4</th>\n",
              "      <th>5</th>\n",
              "      <th>6</th>\n",
              "      <th>7</th>\n",
              "      <th>8</th>\n",
              "      <th>9</th>\n",
              "      <th>...</th>\n",
              "      <th>181</th>\n",
              "      <th>182</th>\n",
              "      <th>183</th>\n",
              "      <th>184</th>\n",
              "      <th>185</th>\n",
              "      <th>186</th>\n",
              "      <th>187</th>\n",
              "      <th>188</th>\n",
              "      <th>189</th>\n",
              "      <th>190</th>\n",
              "    </tr>\n",
              "  </thead>\n",
              "  <tbody>\n",
              "    <tr>\n",
              "      <th>0</th>\n",
              "      <td>2987000.0</td>\n",
              "      <td>86400.0</td>\n",
              "      <td>68.5</td>\n",
              "      <td>13926.0</td>\n",
              "      <td>362.555488</td>\n",
              "      <td>150.0</td>\n",
              "      <td>142.0</td>\n",
              "      <td>315.0</td>\n",
              "      <td>87.0</td>\n",
              "      <td>19.00000</td>\n",
              "      <td>...</td>\n",
              "      <td>1.0</td>\n",
              "      <td>0.0</td>\n",
              "      <td>0.0</td>\n",
              "      <td>1.0</td>\n",
              "      <td>0.0</td>\n",
              "      <td>0.0</td>\n",
              "      <td>0.0</td>\n",
              "      <td>0.0</td>\n",
              "      <td>0.0</td>\n",
              "      <td>0.0</td>\n",
              "    </tr>\n",
              "    <tr>\n",
              "      <th>1</th>\n",
              "      <td>2987001.0</td>\n",
              "      <td>86401.0</td>\n",
              "      <td>29.0</td>\n",
              "      <td>2755.0</td>\n",
              "      <td>404.000000</td>\n",
              "      <td>150.0</td>\n",
              "      <td>102.0</td>\n",
              "      <td>325.0</td>\n",
              "      <td>87.0</td>\n",
              "      <td>118.50218</td>\n",
              "      <td>...</td>\n",
              "      <td>0.0</td>\n",
              "      <td>1.0</td>\n",
              "      <td>0.0</td>\n",
              "      <td>1.0</td>\n",
              "      <td>0.0</td>\n",
              "      <td>0.0</td>\n",
              "      <td>0.0</td>\n",
              "      <td>0.0</td>\n",
              "      <td>0.0</td>\n",
              "      <td>0.0</td>\n",
              "    </tr>\n",
              "    <tr>\n",
              "      <th>2</th>\n",
              "      <td>2987002.0</td>\n",
              "      <td>86469.0</td>\n",
              "      <td>59.0</td>\n",
              "      <td>4663.0</td>\n",
              "      <td>490.000000</td>\n",
              "      <td>150.0</td>\n",
              "      <td>166.0</td>\n",
              "      <td>330.0</td>\n",
              "      <td>87.0</td>\n",
              "      <td>287.00000</td>\n",
              "      <td>...</td>\n",
              "      <td>1.0</td>\n",
              "      <td>0.0</td>\n",
              "      <td>1.0</td>\n",
              "      <td>0.0</td>\n",
              "      <td>1.0</td>\n",
              "      <td>0.0</td>\n",
              "      <td>1.0</td>\n",
              "      <td>0.0</td>\n",
              "      <td>1.0</td>\n",
              "      <td>0.0</td>\n",
              "    </tr>\n",
              "    <tr>\n",
              "      <th>3</th>\n",
              "      <td>2987003.0</td>\n",
              "      <td>86499.0</td>\n",
              "      <td>50.0</td>\n",
              "      <td>18132.0</td>\n",
              "      <td>567.000000</td>\n",
              "      <td>150.0</td>\n",
              "      <td>117.0</td>\n",
              "      <td>476.0</td>\n",
              "      <td>87.0</td>\n",
              "      <td>118.50218</td>\n",
              "      <td>...</td>\n",
              "      <td>0.0</td>\n",
              "      <td>1.0</td>\n",
              "      <td>1.0</td>\n",
              "      <td>0.0</td>\n",
              "      <td>0.0</td>\n",
              "      <td>0.0</td>\n",
              "      <td>0.0</td>\n",
              "      <td>0.0</td>\n",
              "      <td>0.0</td>\n",
              "      <td>0.0</td>\n",
              "    </tr>\n",
              "    <tr>\n",
              "      <th>4</th>\n",
              "      <td>2987004.0</td>\n",
              "      <td>86506.0</td>\n",
              "      <td>50.0</td>\n",
              "      <td>4497.0</td>\n",
              "      <td>514.000000</td>\n",
              "      <td>150.0</td>\n",
              "      <td>102.0</td>\n",
              "      <td>420.0</td>\n",
              "      <td>87.0</td>\n",
              "      <td>118.50218</td>\n",
              "      <td>...</td>\n",
              "      <td>0.0</td>\n",
              "      <td>0.0</td>\n",
              "      <td>0.0</td>\n",
              "      <td>0.0</td>\n",
              "      <td>0.0</td>\n",
              "      <td>0.0</td>\n",
              "      <td>0.0</td>\n",
              "      <td>0.0</td>\n",
              "      <td>0.0</td>\n",
              "      <td>0.0</td>\n",
              "    </tr>\n",
              "  </tbody>\n",
              "</table>\n",
              "<p>5 rows × 191 columns</p>\n",
              "</div>"
            ]
          },
          "metadata": {
            "tags": []
          },
          "execution_count": 21
        }
      ]
    },
    {
      "cell_type": "code",
      "metadata": {
        "trusted": true,
        "id": "KrMfAd_TWB2H",
        "colab_type": "code",
        "colab": {}
      },
      "source": [
        "\"\"\"\n",
        "ランダムフォレスト\n",
        "\"\"\"\n",
        "from sklearn.ensemble import RandomForestRegressor\n",
        "\n",
        "f_train,f_val,g_train,g_val=train_test_split(XX_train,XX_test,test_size=0.2,random_state=0)\n",
        "reg_model=RandomForestRegressor(random_state=0)\n",
        "reg_model.fit(f_train,g_train)\n",
        "reg_pred=reg_model.predict(f_val)\n",
        "\n",
        "fti = reg_model.feature_importances_\n",
        "\n",
        "feature=[]\n",
        "print('Feature Importances:')\n",
        "feature_names=list(XX_train.columns)\n",
        "for i, feat in enumerate(feature_names):\n",
        "    feature.append(fti[i])\n",
        "    print('\\t{0:10d} : {1:>.6f}'.format(feat, fti[i]))"
      ],
      "execution_count": 0,
      "outputs": []
    },
    {
      "cell_type": "code",
      "metadata": {
        "trusted": true,
        "id": "z1sjBJ0hWB2K",
        "colab_type": "code",
        "colab": {}
      },
      "source": [
        "del XX_train,XX_test,f_train,f_val,g_train,g_val,reg_model,fti\n",
        "gc.collect()"
      ],
      "execution_count": 0,
      "outputs": []
    },
    {
      "cell_type": "code",
      "metadata": {
        "trusted": true,
        "id": "QQRYoPj5WB2M",
        "colab_type": "code",
        "colab": {}
      },
      "source": [
        "l1=pd.DataFrame(feature,index=feature_name)\n",
        "# l2=pd.DataFrame\n",
        "# l1.columns='importance'\n",
        "# for i in len()\n",
        "col_in=l1[l1[0]>0].sort_values(by=l1.columns[0],ascending=False)[:50].index\n",
        "col_in\n",
        "#     .sort_values()ascending=False"
      ],
      "execution_count": 0,
      "outputs": []
    },
    {
      "cell_type": "code",
      "metadata": {
        "trusted": true,
        "id": "awChbsoKWB2O",
        "colab_type": "code",
        "colab": {}
      },
      "source": [
        "#試しにVの文字が入るデータは落とす\n",
        "col_d=[ i for i in X_train.columns if \"V\" in i]\n",
        "X_train=X_train.drop(col_d,axis=1)"
      ],
      "execution_count": 0,
      "outputs": []
    },
    {
      "cell_type": "code",
      "metadata": {
        "trusted": true,
        "id": "5abklMfcWB2R",
        "colab_type": "code",
        "colab": {}
      },
      "source": [
        "# X_train.dtypes.value_counts()#float 60/object 31/int64 3\n",
        "#object型のカラムを抽出\n",
        "# X_train.dtypes\n",
        "# X_train.select_dtypes(include=object)\n",
        "# X_train.select_dtypes(include=object).id_30.value_counts()#OS\n",
        "# X_train.select_dtypes(include=object).id_31.value_counts()#ブラウザ\n",
        "# X_train.select_dtypes(include=object).id_34.value_counts()#macth_status\n",
        "# X_train.select_dtypes(include=object).DeviceInfo.value_counts()#Deviceinfo\n",
        "# X_train.select_dtypes(include=object).DeviceType.value_counts()#DeviceType\n",
        "# ダミー化変数にして膨れないようなもの\n",
        "# ProductCD,card4,card6,P_emaildomain,R_emailcomain,id_34,DeviceType\n",
        "# ダミー化が面倒なので上記以外も落とす\n",
        "lis=[\"P_emaildomain\",\"R_emaildomain\",\"id_34\",\"DeviceInfo\",\"DeviceType\"]\n",
        "lis_obj=X_train.select_dtypes(include=object)\n",
        "lis_d=lis_obj.drop(lis,axis=1)\n",
        "X_train=X_train.drop(lis_d,axis=1)\n",
        "test=test.drop(lis_d,axis=1)\n"
      ],
      "execution_count": 0,
      "outputs": []
    },
    {
      "cell_type": "code",
      "metadata": {
        "trusted": true,
        "id": "_vkVev1kWB2U",
        "colab_type": "code",
        "colab": {}
      },
      "source": [
        "# del lis,lis_obj,lis_d\n",
        "# gc.collect()"
      ],
      "execution_count": 0,
      "outputs": []
    },
    {
      "cell_type": "code",
      "metadata": {
        "trusted": true,
        "id": "sC5_-1T4WB2W",
        "colab_type": "code",
        "colab": {}
      },
      "source": [
        "\"\"\"\n",
        "ProductCD, card4, card6, P_emaildomain, R_emaildomain, id_34, DeviceType\n",
        "\n",
        "データ型がobjectなんで判定できません\n",
        "https://note.nkmk.me/python-pandas-get-dummies/\n",
        "\"\"\"\n",
        "X_train=pd.get_dummies(X_train)\n",
        "test=pd.get_dummies(test)\n"
      ],
      "execution_count": 0,
      "outputs": []
    },
    {
      "cell_type": "code",
      "metadata": {
        "trusted": true,
        "id": "fDSD7l0KWB2Z",
        "colab_type": "code",
        "colab": {}
      },
      "source": [
        "# test.dtypes\n",
        "# test.columns.values"
      ],
      "execution_count": 0,
      "outputs": []
    },
    {
      "cell_type": "code",
      "metadata": {
        "trusted": true,
        "id": "IOyLXwYpWB2b",
        "colab_type": "code",
        "colab": {}
      },
      "source": [
        "# \"\"\"\n",
        "# lgbmを使う練習\n",
        "# trainデータのみで学習と予測を行う\n",
        "# \"\"\"\n",
        "# #訓練データの試験用正規ラベル→yに入れる\n",
        "# # df_tr_tr.isFraud\n",
        "# X_test=df_trtr[\"isFraud\"]\n",
        "# # y_test=df_te_tr[\"isFraud\"]\n",
        "\n",
        "# #訓練データの学習用データはisFraud以外→Xに入れる\n",
        "# X_train=df_trtr.drop(\"isFraud\",axis=1)\n",
        "# # y_test=df_te_tr.drop(\"isFraud\",axis=1)\n",
        "\n",
        "# test=df_tetr"
      ],
      "execution_count": 0,
      "outputs": []
    },
    {
      "cell_type": "code",
      "metadata": {
        "trusted": true,
        "id": "2W9AVKw0WB2d",
        "colab_type": "code",
        "colab": {}
      },
      "source": [
        "#訓練データをさらに検証と学習に分割\n",
        "f_train,f_test,g_train,g_test=train_test_split(X_train,X_test)"
      ],
      "execution_count": 0,
      "outputs": []
    },
    {
      "cell_type": "code",
      "metadata": {
        "trusted": true,
        "id": "dNeJb1LsWB2i",
        "colab_type": "code",
        "colab": {}
      },
      "source": [
        "del X_train,X_test\n",
        "gc.collect()"
      ],
      "execution_count": 0,
      "outputs": []
    },
    {
      "cell_type": "code",
      "metadata": {
        "trusted": true,
        "id": "b9W01Xh7WB2o",
        "colab_type": "code",
        "colab": {}
      },
      "source": [
        "f_train.head()\n",
        "f_train.dtypes.unique()\n",
        "for u in f_train.columns:\n",
        "    f_train[u].astype(np.float64)"
      ],
      "execution_count": 0,
      "outputs": []
    },
    {
      "cell_type": "code",
      "metadata": {
        "trusted": true,
        "id": "9theLOtAWB2q",
        "colab_type": "code",
        "colab": {}
      },
      "source": [
        "#データセットを作成する\n",
        "f_name=[i for i in f_train.columns]\n",
        "lgb_train=lgb.Dataset(f_train,g_train,feature_name=f_name)\n",
        "# featue_nameは[]形式で渡さないとダメ　いきなり.columsnでは渡せない\n",
        "lgb_eval=lgb.Dataset(f_test,g_test,reference=lgb_train)"
      ],
      "execution_count": 0,
      "outputs": []
    },
    {
      "cell_type": "code",
      "metadata": {
        "trusted": true,
        "id": "gdIQ0gH2WB2s",
        "colab_type": "code",
        "colab": {}
      },
      "source": [
        ""
      ],
      "execution_count": 0,
      "outputs": []
    },
    {
      "cell_type": "code",
      "metadata": {
        "trusted": true,
        "id": "4BsF5Ad7WB2u",
        "colab_type": "code",
        "colab": {}
      },
      "source": [
        "# lgbm_params={\"objective\":\"binary\",\"metric\":'auc'}\n",
        "lgbm_params={\"objective\":\"binary\",\"metric\":'auc'}"
      ],
      "execution_count": 0,
      "outputs": []
    },
    {
      "cell_type": "code",
      "metadata": {
        "trusted": true,
        "id": "O2ogRpwgWB2v",
        "colab_type": "code",
        "colab": {}
      },
      "source": [
        "#学習\n",
        "model=lgb.train(lgbm_params,lgb_train,valid_sets=lgb_eval)\n",
        "# model = lgb.train(lgbm_params, lgb_train, valid_sets=lgb_eval, num_boost_round=40)\n"
      ],
      "execution_count": 0,
      "outputs": []
    },
    {
      "cell_type": "code",
      "metadata": {
        "trusted": true,
        "id": "Dm6Bb2LuWB2y",
        "colab_type": "code",
        "colab": {}
      },
      "source": [
        "#テストデータを予測する\n",
        "# y_pred=model.predict(f_test,num_iteration=model.best_iteration)\n",
        "y_pred=model.predict(test,num_iteration=model.best_iteration)\n",
        "# y_pred_max=np.argmax(y_pred,axis=1)"
      ],
      "execution_count": 0,
      "outputs": []
    },
    {
      "cell_type": "code",
      "metadata": {
        "trusted": true,
        "id": "F26rYJA1WB22",
        "colab_type": "code",
        "colab": {}
      },
      "source": [
        "y_pred"
      ],
      "execution_count": 0,
      "outputs": []
    },
    {
      "cell_type": "code",
      "metadata": {
        "trusted": true,
        "id": "Izs1albyWB24",
        "colab_type": "code",
        "colab": {}
      },
      "source": [
        "# y_pred_max=pd.DataFrame(y_pred_max)\n",
        "# y_pred_max.head()\n",
        "# # y_pred_ma\n",
        "# count=y_pred_max[0].value_counts()\n",
        "# shape=y_pred_max.shape\n",
        "# print(count,\"\\n|\",shape)"
      ],
      "execution_count": 0,
      "outputs": []
    },
    {
      "cell_type": "code",
      "metadata": {
        "trusted": true,
        "id": "IgJshlodWB28",
        "colab_type": "code",
        "colab": {}
      },
      "source": [
        "sub.isFraud=y_pred"
      ],
      "execution_count": 0,
      "outputs": []
    },
    {
      "cell_type": "code",
      "metadata": {
        "trusted": true,
        "id": "9zhOsWhjWB2-",
        "colab_type": "code",
        "colab": {}
      },
      "source": [
        "# sub.head()"
      ],
      "execution_count": 0,
      "outputs": []
    },
    {
      "cell_type": "code",
      "metadata": {
        "trusted": true,
        "id": "4XM5pWZ-WB3A",
        "colab_type": "code",
        "colab": {}
      },
      "source": [
        "#出力\n",
        "sub.isFraud=y_pred\n",
        "sub.to_csv(\"submission.csv\",index=False)"
      ],
      "execution_count": 0,
      "outputs": []
    },
    {
      "cell_type": "code",
      "metadata": {
        "trusted": true,
        "id": "3utlfMiVWB3B",
        "colab_type": "code",
        "colab": {}
      },
      "source": [
        "\n",
        "# importanceを表示する\n",
        "# importance = pd.DataFrame(model.feature_importance(),index=f_name,columns=['importance'])\n",
        "\n",
        "# importance.sort_values(by=\"importance\",ascending=True).plot.hist(bins=20)\n",
        "# importance\n",
        "\n",
        "#作成したモデルにおいて識別に寄与しないカラムを除去する\n",
        "# lis=importance.query(\"importance < 0.5\")\n",
        "# lis.head()\n",
        "# display(importance.sort_values(by=\"importance\",ascending=False))\n",
        "# lis.index"
      ],
      "execution_count": 0,
      "outputs": []
    },
    {
      "cell_type": "code",
      "metadata": {
        "trusted": true,
        "id": "sZwLSyiNWB3D",
        "colab_type": "code",
        "colab": {}
      },
      "source": [
        "# lis_q=list(lis.index)\n",
        "# lis_q"
      ],
      "execution_count": 0,
      "outputs": []
    },
    {
      "cell_type": "code",
      "metadata": {
        "trusted": true,
        "id": "TS6-wafXWB3G",
        "colab_type": "code",
        "colab": {}
      },
      "source": [
        "# f_train.drop(lis_q,axis=1).head()\n",
        "# f_train.head()"
      ],
      "execution_count": 0,
      "outputs": []
    },
    {
      "cell_type": "code",
      "metadata": {
        "trusted": true,
        "id": "FwxY4zcEWB3M",
        "colab_type": "code",
        "colab": {}
      },
      "source": [
        "# f_train=f_train.drop(lis_q,axis=1)"
      ],
      "execution_count": 0,
      "outputs": []
    },
    {
      "cell_type": "code",
      "metadata": {
        "trusted": true,
        "id": "8iSkWjZGWB3T",
        "colab_type": "code",
        "colab": {}
      },
      "source": [
        "# #邪魔なカラムを削除して再度学習\n",
        "# # f_train.columns\n",
        "# # f_train=f_train.drop(lis_q,axis=1)\n",
        "# # g_train=g_train.drop(lis_q,axis=1)\n",
        "# #データセットを作成する\n",
        "# f_name=[i for i in f_train.columns]\n",
        "# lgb_train=lgb.Dataset(f_train,g_train,feature_name=f_name)\n",
        "# # featue_nameは[]形式で渡さないとダメ　いきなり.columsnでは渡せない\n",
        "# lgb_eval=lgb.Dataset(f_test,g_test,reference=lgb_train)"
      ],
      "execution_count": 0,
      "outputs": []
    },
    {
      "cell_type": "code",
      "metadata": {
        "trusted": true,
        "id": "Wj4huvLzWB3X",
        "colab_type": "code",
        "colab": {}
      },
      "source": [
        "# # lgbm_params={\"objective\":\"binary\",\"metric\":'auc'}\n",
        "# lgbm_params={'num_leaves': 500,\n",
        "#           'min_data_in_leaf': 106,\n",
        "#           'objective': 'binary',\n",
        "#           'max_depth': -1,\n",
        "#           \"boosting_type\": \"gbdt\",\n",
        "#           \"bagging_seed\": 11,\n",
        "#           \"metric\": 'auc',\n",
        "#           \"verbosity\": -1,\n",
        "#           'random_state': 47\n",
        "#          }"
      ],
      "execution_count": 0,
      "outputs": []
    },
    {
      "cell_type": "code",
      "metadata": {
        "trusted": true,
        "id": "NdOdngqGWB3b",
        "colab_type": "code",
        "colab": {}
      },
      "source": [
        "# #学習\n",
        "# model=lgb.train(lgbm_params,lgb_train,valid_sets=lgb_eval)\n",
        "# # model = lgb.train(lgbm_params, lgb_train, valid_sets=lgb_eval, num_boost_round=40)\n"
      ],
      "execution_count": 0,
      "outputs": []
    },
    {
      "cell_type": "code",
      "metadata": {
        "trusted": true,
        "id": "Cmk77JgpWB3e",
        "colab_type": "code",
        "colab": {}
      },
      "source": [
        "# y_pred2=model.predict(test,num_iteration=model.best_iteration)"
      ],
      "execution_count": 0,
      "outputs": []
    },
    {
      "cell_type": "code",
      "metadata": {
        "trusted": true,
        "id": "Npe-7Z1rWB3h",
        "colab_type": "code",
        "colab": {}
      },
      "source": [
        "\n",
        "# pred=pd.DataFrame([y_pred,y_pred2])"
      ],
      "execution_count": 0,
      "outputs": []
    },
    {
      "cell_type": "code",
      "metadata": {
        "trusted": true,
        "id": "ZESBC1IGWB3o",
        "colab_type": "code",
        "colab": {}
      },
      "source": [
        "# pred.head()"
      ],
      "execution_count": 0,
      "outputs": []
    },
    {
      "cell_type": "code",
      "metadata": {
        "trusted": true,
        "id": "hHyTgboCWB3u",
        "colab_type": "code",
        "colab": {}
      },
      "source": [
        "\n",
        "# sub.isFraud=y_pred2\n",
        "# sub.to_csv(\"submission.csv\",index=False)"
      ],
      "execution_count": 0,
      "outputs": []
    },
    {
      "cell_type": "code",
      "metadata": {
        "trusted": true,
        "id": "JoYohFt3WB3v",
        "colab_type": "code",
        "colab": {}
      },
      "source": [
        ""
      ],
      "execution_count": 0,
      "outputs": []
    }
  ]
}