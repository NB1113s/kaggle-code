{
 "cells": [
  {
   "cell_type": "code",
   "execution_count": 1,
   "metadata": {},
   "outputs": [],
   "source": [
    "import numpy as np\n",
    "import pandas as pd\n",
    "import matplotlib.pyplot as plt\n",
    "import seaborn as sns\n",
    "\n",
    "%matplotlib inline\n",
    "\n",
    "#データをtrain, validation用に分割するモジュール\n",
    "from sklearn.model_selection import train_test_split\n",
    "#Logistic回帰\n",
    "from sklearn.linear_model import LogisticRegression\n",
    "#評価用モジュール\n",
    "from sklearn.metrics import accuracy_score, confusion_matrix, roc_curve, roc_auc_score, classification_report\n",
    "#標準化モジュール\n",
    "from sklearn.preprocessing import StandardScaler"
   ]
  },
  {
   "cell_type": "code",
   "execution_count": 2,
   "metadata": {},
   "outputs": [],
   "source": [
    "import pandas as pd"
   ]
  },
  {
   "cell_type": "code",
   "execution_count": 3,
   "metadata": {},
   "outputs": [],
   "source": [
    "train=pd.read_csv(\"../input/home-credit-default-risk/application_train.csv\")\n",
    "test=pd.read_csv(\"../input/home-credit-default-risk/application_test.csv\")"
   ]
  },
  {
   "cell_type": "code",
   "execution_count": 4,
   "metadata": {},
   "outputs": [
    {
     "name": "stdout",
     "output_type": "stream",
     "text": [
      "(307511, 122) (48744, 121)\n"
     ]
    }
   ],
   "source": [
    "print(train.shape,test.shape)"
   ]
  },
  {
   "cell_type": "code",
   "execution_count": 5,
   "metadata": {},
   "outputs": [
    {
     "data": {
      "text/plain": [
       "Index(['NAME_CONTRACT_TYPE', 'CODE_GENDER', 'FLAG_OWN_CAR', 'FLAG_OWN_REALTY',\n",
       "       'NAME_TYPE_SUITE', 'NAME_INCOME_TYPE', 'NAME_EDUCATION_TYPE',\n",
       "       'NAME_FAMILY_STATUS', 'NAME_HOUSING_TYPE', 'OCCUPATION_TYPE',\n",
       "       'WEEKDAY_APPR_PROCESS_START', 'ORGANIZATION_TYPE', 'FONDKAPREMONT_MODE',\n",
       "       'HOUSETYPE_MODE', 'WALLSMATERIAL_MODE', 'EMERGENCYSTATE_MODE'],\n",
       "      dtype='object')"
      ]
     },
     "execution_count": 5,
     "metadata": {},
     "output_type": "execute_result"
    }
   ],
   "source": [
    "train.select_dtypes(include=object).columns"
   ]
  },
  {
   "cell_type": "code",
   "execution_count": 6,
   "metadata": {},
   "outputs": [
    {
     "data": {
      "text/plain": [
       "SK_ID_CURR                       0\n",
       "NAME_CONTRACT_TYPE               0\n",
       "CODE_GENDER                      0\n",
       "FLAG_OWN_CAR                     0\n",
       "FLAG_OWN_REALTY                  0\n",
       "                              ... \n",
       "AMT_REQ_CREDIT_BUREAU_DAY     6049\n",
       "AMT_REQ_CREDIT_BUREAU_WEEK    6049\n",
       "AMT_REQ_CREDIT_BUREAU_MON     6049\n",
       "AMT_REQ_CREDIT_BUREAU_QRT     6049\n",
       "AMT_REQ_CREDIT_BUREAU_YEAR    6049\n",
       "Length: 121, dtype: int64"
      ]
     },
     "execution_count": 6,
     "metadata": {},
     "output_type": "execute_result"
    }
   ],
   "source": [
    "test.isnull().sum()"
   ]
  },
  {
   "cell_type": "code",
   "execution_count": 7,
   "metadata": {},
   "outputs": [
    {
     "data": {
      "text/plain": [
       "SK_ID_CURR                        0\n",
       "TARGET                            0\n",
       "NAME_CONTRACT_TYPE                0\n",
       "CODE_GENDER                       0\n",
       "FLAG_OWN_CAR                      0\n",
       "                              ...  \n",
       "AMT_REQ_CREDIT_BUREAU_DAY     41519\n",
       "AMT_REQ_CREDIT_BUREAU_WEEK    41519\n",
       "AMT_REQ_CREDIT_BUREAU_MON     41519\n",
       "AMT_REQ_CREDIT_BUREAU_QRT     41519\n",
       "AMT_REQ_CREDIT_BUREAU_YEAR    41519\n",
       "Length: 122, dtype: int64"
      ]
     },
     "execution_count": 7,
     "metadata": {},
     "output_type": "execute_result"
    }
   ],
   "source": [
    "train.isnull().sum() #欠損はない"
   ]
  },
  {
   "cell_type": "code",
   "execution_count": 8,
   "metadata": {},
   "outputs": [],
   "source": [
    "re1=[i for i in train.select_dtypes(include=object).columns]\n",
    "re2=[i for i in test.select_dtypes(include=object).columns]\n",
    "# dw=[]\n",
    "# for i in re:\n",
    "#   print(i,len(train[i].unique()))"
   ]
  },
  {
   "cell_type": "code",
   "execution_count": 9,
   "metadata": {},
   "outputs": [
    {
     "name": "stdout",
     "output_type": "stream",
     "text": [
      "(307511, 122) (48744, 121)\n"
     ]
    }
   ],
   "source": [
    "print(train.shape,test.shape)"
   ]
  },
  {
   "cell_type": "code",
   "execution_count": 10,
   "metadata": {},
   "outputs": [],
   "source": [
    "train=pd.get_dummies(train, columns=list(re1)) \n",
    "test=pd.get_dummies(test,columns=list(re2))"
   ]
  },
  {
   "cell_type": "code",
   "execution_count": 11,
   "metadata": {},
   "outputs": [
    {
     "name": "stdout",
     "output_type": "stream",
     "text": [
      "(307511, 246) (48744, 242)\n"
     ]
    }
   ],
   "source": [
    "print(train.shape,test.shape)"
   ]
  },
  {
   "cell_type": "code",
   "execution_count": 12,
   "metadata": {},
   "outputs": [],
   "source": [
    "y=train[\"TARGET\"]\n",
    "# y\n",
    "train.drop(\"TARGET\",axis=1,inplace=True)"
   ]
  },
  {
   "cell_type": "code",
   "execution_count": 13,
   "metadata": {},
   "outputs": [
    {
     "name": "stdout",
     "output_type": "stream",
     "text": [
      "CODE_GENDER_XNA\n",
      "NAME_INCOME_TYPE_Maternity leave\n",
      "NAME_FAMILY_STATUS_Unknown\n"
     ]
    }
   ],
   "source": [
    "for i in train.columns:\n",
    "    if i not in test.columns:\n",
    "        train.drop(i,axis=1,inplace=True)\n",
    "        print(i)"
   ]
  },
  {
   "cell_type": "code",
   "execution_count": 14,
   "metadata": {},
   "outputs": [
    {
     "name": "stdout",
     "output_type": "stream",
     "text": [
      "(307511, 242) (48744, 242)\n"
     ]
    }
   ],
   "source": [
    "print(train.shape,test.shape)"
   ]
  },
  {
   "cell_type": "code",
   "execution_count": 15,
   "metadata": {},
   "outputs": [
    {
     "name": "stdout",
     "output_type": "stream",
     "text": [
      "8388094 1285385\n"
     ]
    }
   ],
   "source": [
    "# y.isnull().sum()\n",
    "print(train.isnull().sum().sum(),test.isnull().sum().sum())\n",
    "#欠損地あると飲ませられない"
   ]
  },
  {
   "cell_type": "code",
   "execution_count": 16,
   "metadata": {},
   "outputs": [],
   "source": [
    "# 欠損値　ひとまず平均値補間\n",
    "# train['AMT_INCOME_TOTAL'].isnull().sum()\n",
    "for i in train.columns:\n",
    "  me=train[i].median()\n",
    "  if train[i].isnull().sum() > 0:\n",
    "    train[i].fillna(me,inplace=True)"
   ]
  },
  {
   "cell_type": "code",
   "execution_count": 17,
   "metadata": {},
   "outputs": [],
   "source": [
    "for i in test.columns:\n",
    "  me=test[i].median()\n",
    "  if test[i].isnull().sum() > 0:\n",
    "    test[i].fillna(me,inplace=True)"
   ]
  },
  {
   "cell_type": "code",
   "execution_count": 18,
   "metadata": {},
   "outputs": [
    {
     "data": {
      "text/plain": [
       "0"
      ]
     },
     "execution_count": 18,
     "metadata": {},
     "output_type": "execute_result"
    }
   ],
   "source": [
    "train=pd.DataFrame(train)\n",
    "test=pd.DataFrame(test)\n",
    "test.isnull().sum().sum()\n"
   ]
  },
  {
   "cell_type": "code",
   "execution_count": 19,
   "metadata": {},
   "outputs": [
    {
     "name": "stdout",
     "output_type": "stream",
     "text": [
      "(246008, 242) (61503, 242) (246008,) (61503,) (48744, 242)\n"
     ]
    }
   ],
   "source": [
    "from sklearn.model_selection import train_test_split\n",
    "from sklearn.linear_model import LogisticRegression\n",
    "from sklearn.metrics import accuracy_score,confusion_matrix\n",
    "from sklearn.metrics import roc_auc_score,roc_curve,classification_report\n",
    "from sklearn.preprocessing import StandardScaler\n",
    "\n",
    "#標準化\n",
    "#標準化\n",
    "# ss=StandardScaler()\n",
    "# ss.fit(train)\n",
    "# train=ss.transform(train)\n",
    "\n",
    "# sc=StandardScaler()\n",
    "# sc.fit(test)\n",
    "# test=sc.transform(test)\n",
    "\n",
    "# train=pd.DataFrame(train)\n",
    "# test=pd.DataFrame(test)\n",
    "\n",
    "# train.columns=ftr_name\n",
    "# test.columns=fte_name\n",
    "\n",
    "#標準化\n",
    "# train = StandardScaler().fit_transform(train)\n",
    "\n",
    "X_train,X_test,y_train,y_test=train_test_split(train,y,random_state=1\n",
    "                                               ,test_size=0.2,stratify=y)\n",
    "\n",
    "print(X_train.shape,X_test.shape,y_train.shape,y_test.shape,test.shape)"
   ]
  },
  {
   "cell_type": "code",
   "execution_count": 20,
   "metadata": {},
   "outputs": [
    {
     "name": "stderr",
     "output_type": "stream",
     "text": [
      "/opt/conda/lib/python3.6/site-packages/sklearn/linear_model/logistic.py:432: FutureWarning: Default solver will be changed to 'lbfgs' in 0.22. Specify a solver to silence this warning.\n",
      "  FutureWarning)\n"
     ]
    }
   ],
   "source": [
    "\n",
    "#インスタンス化\n",
    "log=LogisticRegression()\n",
    "#学習\n",
    "log.fit(X_train,y_train)\n",
    "#予測\n",
    "y_pred=log.predict_proba(X_test)"
   ]
  },
  {
   "cell_type": "code",
   "execution_count": 21,
   "metadata": {},
   "outputs": [
    {
     "data": {
      "text/plain": [
       "(61503, 2)"
      ]
     },
     "execution_count": 21,
     "metadata": {},
     "output_type": "execute_result"
    }
   ],
   "source": [
    "y_pred.shape"
   ]
  },
  {
   "cell_type": "code",
   "execution_count": 22,
   "metadata": {},
   "outputs": [
    {
     "data": {
      "text/plain": [
       "array([[0.96700938, 0.03299062],\n",
       "       [0.90400129, 0.09599871],\n",
       "       [0.89000727, 0.10999273],\n",
       "       ...,\n",
       "       [0.90609225, 0.09390775],\n",
       "       [0.88349628, 0.11650372],\n",
       "       [0.90593317, 0.09406683]])"
      ]
     },
     "execution_count": 22,
     "metadata": {},
     "output_type": "execute_result"
    }
   ],
   "source": [
    "y_pred"
   ]
  },
  {
   "cell_type": "code",
   "execution_count": 23,
   "metadata": {},
   "outputs": [],
   "source": [
    "y_pred=y_pred[:,1]"
   ]
  },
  {
   "cell_type": "code",
   "execution_count": 24,
   "metadata": {},
   "outputs": [],
   "source": [
    "import matplotlib.pyplot as plt\n",
    "import seaborn as sns"
   ]
  },
  {
   "cell_type": "code",
   "execution_count": 25,
   "metadata": {},
   "outputs": [
    {
     "data": {
      "image/png": "[encoded data removed]",
      "text/plain": [
       "<Figure size 432x288 with 1 Axes>"
      ]
     },
     "metadata": {
      "needs_background": "light"
     },
     "output_type": "display_data"
    }
   ],
   "source": [
    "#ROC曲線プロット\n",
    "fpr, tpr, thresholds = roc_curve(y_test, y_pred)\n",
    "auc_score = roc_auc_score(y_test, y_pred)\n",
    "plt.plot(fpr, tpr, label='AUC = %.3f' % (auc_score))\n",
    "plt.legend()\n",
    "plt.title('ROC curve')\n",
    "plt.xlabel('False Positive Rate')\n",
    "plt.ylabel('True Positive Rate')\n",
    "plt.grid(True)\n",
    "\n",
    "#fillna(mean)→AUC=0.505"
   ]
  },
  {
   "cell_type": "code",
   "execution_count": 26,
   "metadata": {},
   "outputs": [],
   "source": [
    "y_pred=log.predict_proba(test)"
   ]
  },
  {
   "cell_type": "code",
   "execution_count": 27,
   "metadata": {},
   "outputs": [],
   "source": [
    "y_pred=y_pred[:,1]"
   ]
  },
  {
   "cell_type": "code",
   "execution_count": 28,
   "metadata": {},
   "outputs": [
    {
     "data": {
      "text/html": [
       "<div>\n",
       "<style scoped>\n",
       "    .dataframe tbody tr th:only-of-type {\n",
       "        vertical-align: middle;\n",
       "    }\n",
       "\n",
       "    .dataframe tbody tr th {\n",
       "        vertical-align: top;\n",
       "    }\n",
       "\n",
       "    .dataframe thead th {\n",
       "        text-align: right;\n",
       "    }\n",
       "</style>\n",
       "<table border=\"1\" class=\"dataframe\">\n",
       "  <thead>\n",
       "    <tr style=\"text-align: right;\">\n",
       "      <th></th>\n",
       "      <th>SK_ID_CURR</th>\n",
       "      <th>TARGET</th>\n",
       "    </tr>\n",
       "  </thead>\n",
       "  <tbody>\n",
       "    <tr>\n",
       "      <td>0</td>\n",
       "      <td>100001</td>\n",
       "      <td>0.5</td>\n",
       "    </tr>\n",
       "    <tr>\n",
       "      <td>1</td>\n",
       "      <td>100005</td>\n",
       "      <td>0.5</td>\n",
       "    </tr>\n",
       "    <tr>\n",
       "      <td>2</td>\n",
       "      <td>100013</td>\n",
       "      <td>0.5</td>\n",
       "    </tr>\n",
       "    <tr>\n",
       "      <td>3</td>\n",
       "      <td>100028</td>\n",
       "      <td>0.5</td>\n",
       "    </tr>\n",
       "    <tr>\n",
       "      <td>4</td>\n",
       "      <td>100038</td>\n",
       "      <td>0.5</td>\n",
       "    </tr>\n",
       "  </tbody>\n",
       "</table>\n",
       "</div>"
      ],
      "text/plain": [
       "   SK_ID_CURR  TARGET\n",
       "0      100001     0.5\n",
       "1      100005     0.5\n",
       "2      100013     0.5\n",
       "3      100028     0.5\n",
       "4      100038     0.5"
      ]
     },
     "execution_count": 28,
     "metadata": {},
     "output_type": "execute_result"
    }
   ],
   "source": [
    "sample=pd.read_csv('../input/home-credit-default-risk/sample_submission.csv')\n",
    "sample.head()\n"
   ]
  },
  {
   "cell_type": "code",
   "execution_count": 29,
   "metadata": {},
   "outputs": [
    {
     "name": "stdout",
     "output_type": "stream",
     "text": [
      "(48744, 2) 48744\n"
     ]
    }
   ],
   "source": [
    "print(sample.shape,len(y_pred))"
   ]
  },
  {
   "cell_type": "code",
   "execution_count": 30,
   "metadata": {},
   "outputs": [],
   "source": [
    "\n",
    "# y_pred2=model.predict(test,num_iteration=model.best_iteration)\n",
    "sample['TARGET']=y_pred\n",
    "sample.to_csv(\"submission.csv\",index=False)"
   ]
  },
  {
   "cell_type": "code",
   "execution_count": null,
   "metadata": {},
   "outputs": [],
   "source": []
  }
 ],
 "metadata": {
  "kernelspec": {
   "display_name": "Python 3",
   "language": "python",
   "name": "python3"
  },
  "language_info": {
   "codemirror_mode": {
    "name": "ipython",
    "version": 3
   },
   "file_extension": ".py",
   "mimetype": "text/x-python",
   "name": "python",
   "nbconvert_exporter": "python",
   "pygments_lexer": "ipython3",
   "version": "3.6.6"
  }
 },
 "nbformat": 4,
 "nbformat_minor": 1
}
